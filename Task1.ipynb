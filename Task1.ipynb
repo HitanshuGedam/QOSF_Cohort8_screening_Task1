from qiskit import QuantumCircuit, Aer, execute
import numpy as np

# Grover search algorithm for finding a pair of primes
def grover_search_for_primes(n, prime_list, target_sum, num_shots):
    # Quantum circuit initialization
    grover_circuit = QuantumCircuit(n)
    
    # Apply Hadamard gates to all qubits
    grover_circuit.h(range(n))

    # Grover's iterations
    for _ in range(int(np.pi/4 * np.sqrt(2**n))):
        # Apply the oracle for the pair of primes problem
        for i in range(n):
            for j in range(i + 1, n):
                if prime_list[i] + prime_list[j] == target_sum:
                    grover_circuit.cz(i, j)

        # Amplitude amplification
        grover_circuit.h(range(n))
        grover_circuit.x(range(n))
        grover_circuit.h(n-1)
        grover_circuit.z(n-1)
        grover_circuit.h(n-1)
        grover_circuit.x(range(n))
        grover_circuit.h(range(n))
    
    # Measure qubits
    grover_circuit.measure_all()
    
    # Simulate the circuit multiple times
    simulator = Aer.get_backend('qasm_simulator')
    job = execute(grover_circuit, simulator, shots=num_shots)
    result = job.result()
    counts = result.get_counts()
    
    return counts

# Define the list of prime numbers and the target sum
prime_list = [2, 3, 5, 7, 11, 13, 17, 19]  # Add your list of prime numbers
target_sum = 10  # Set your target sum
num_shots = 100000  # Number of shots for increased probability

# Run Grover's algorithm for the pair of primes problem
n = len(prime_list)
counts = grover_search_for_primes(n, prime_list, target_sum, num_shots)
print(counts)
# Find the pair with the highest probability
most_likely_pair = max(counts, key=counts.get)

# Print the most likely pair and its probability
print("Most Likely Pair:", most_likely_pair)
print("Probability:", counts[most_likely_pair] / num_shots)
